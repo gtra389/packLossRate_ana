{
 "cells": [
  {
   "cell_type": "code",
   "execution_count": 205,
   "metadata": {},
   "outputs": [],
   "source": [
    "import requests\n",
    "from urllib.request import urlopen\n",
    "from bs4 import BeautifulSoup\n",
    "import re\n",
    "import pandas as pd\n",
    "import numpy as np\n",
    "import matplotlib.dates as mdates\n",
    "import matplotlib.pyplot as plt\n",
    "from matplotlib.ticker import MultipleLocator\n",
    "from time import gmtime, strftime\n",
    "from datetime import datetime\n",
    "from datetime import timedelta"
   ]
  },
  {
   "cell_type": "code",
   "execution_count": 206,
   "metadata": {},
   "outputs": [],
   "source": [
    "def csv_read(fidPath,idNum):\n",
    "    df = pd.read_csv(fidPath,header = None, sep = ',')\n",
    "    # Convert the format of date\n",
    "    dates = df[0]\n",
    "    df.index = pd.to_datetime(dates.astype(str), format='%Y%m%d%H%M%S')\n",
    "    df.index.name = 'Date'\n",
    "    del df[0] # Remove the \"Date\" column\n",
    "    \n",
    "    \n",
    "    endNum = len(df.columns)\n",
    "    #print(\"endNum:\" + str(endNum))\n",
    "    for ii in range(2,endNum):        \n",
    "        del df[ii]   \n",
    "    \n",
    "    \n",
    "    # Creat an empty dataframe\n",
    "    _df = pd.DataFrame({df.columns[0] :[int(idNum)],\n",
    "                        df.columns[-1]:[np.nan]})\n",
    "    _df.index.name = 'Date'\n",
    "\n",
    "    countNum = 0\n",
    "    startIndexNum = 0\n",
    "    threshold = timedelta(minutes = 15)\n",
    "    \n",
    "    while True:\n",
    "        try:\n",
    "            for ii in range(startIndexNum, len(df)):\n",
    "                dt  = df.index[ii+1]-df.index[ii]        \n",
    "                if (dt > threshold):\n",
    "                    # Put the row of NaN values into dataframe\n",
    "                    _dt = df.index[ii]-df.index[ii-1]\n",
    "                    _timestamp = df.index[ii] + _dt\n",
    "                    _df.index = [pd.to_datetime(_timestamp)] # Creat a list for containing a timestamp!!\n",
    "                    df = df.append(_df)\n",
    "                    df = df.sort_index()\n",
    "                    startIndexNum = ii + 1\n",
    "                    #print(\"countNum: \", countNum)\n",
    "                    #print(\"startIndexNum: \", startIndexNum)\n",
    "                    countNum += 1\n",
    "                    break\n",
    "        except:\n",
    "                print(\"ID numeber {} is done!\".format(idNum))\n",
    "                break\n",
    "    \n",
    "    return df"
   ]
  },
  {
   "cell_type": "code",
   "execution_count": 207,
   "metadata": {},
   "outputs": [
    {
     "name": "stdout",
     "output_type": "stream",
     "text": [
      "ID numeber 7599 is done!\n"
     ]
    }
   ],
   "source": [
    "#idNum = 5002\n",
    "#df1 = csv_read(\"INCM01_5002_20191014125339.csv\",idNum)\n",
    "idNum = 7599\n",
    "df1 = csv_read(\"FD02_7599_20191017175710.csv\",idNum)"
   ]
  },
  {
   "cell_type": "code",
   "execution_count": 208,
   "metadata": {},
   "outputs": [
    {
     "name": "stderr",
     "output_type": "stream",
     "text": [
      "D:\\PythonProgm\\lib\\site-packages\\matplotlib\\cbook\\deprecation.py:107: MatplotlibDeprecationWarning: Adding an axes using the same arguments as a previous axes currently reuses the earlier instance.  In a future version, a new instance will always be created and returned.  Meanwhile, this warning can be suppressed, and the future behavior ensured, by passing a unique label to each axes instance.\n",
      "  warnings.warn(message, mplDeprecation, stacklevel=1)\n"
     ]
    },
    {
     "data": {
      "image/png": "[encoded data removed]",
      "text/plain": [
       "<Figure size 864x720 with 1 Axes>"
      ]
     },
     "metadata": {},
     "output_type": "display_data"
    }
   ],
   "source": [
    "dfPlot = df1[df1.columns[-1]].isna()\n",
    "\n",
    "fig = plt.figure(num=1, figsize=[12,10])\n",
    "plt.subplot(3, 1, 1)\n",
    "\n",
    "for ii in range(0,len(dfPlot)):\n",
    "    if dfPlot[ii]:\n",
    "        #print(\"It is a NAN value.\")\n",
    "        plt.scatter(dfPlot.index[ii],0, c ='b')\n",
    "    else:\n",
    "        #print(\"It is not a NAN value.\")\n",
    "        plt.scatter(dfPlot.index[ii],1, c ='b')\n",
    "        \n",
    "ax1 = plt.subplot(311)\n",
    "ax1.set_title(str(idNum) +'.Online/Offline', fontdict = {'fontsize':14})\n",
    "\n",
    "plt.ylim(-1.1, 2.1)\n",
    "#plt.yticks(np.arange(0, 1.1, step = 1))\n",
    "plt.yticks(np.arange(2), ('Offline', 'Online'))\n",
    "plt.xticks(rotation = 30)\n",
    "\n",
    "packetLossRate = df1[df1.columns[-1]].isna().sum()/(df1[df1.columns[0]].count())\n",
    "packetLossRate = round(packetLossRate,4) * 100\n",
    "\n",
    "ax1.set_xlim(dfPlot.index[0] - timedelta(days = 1), dfPlot.index[-1] + timedelta(days = 1))\n",
    "ax1.xaxis.set_major_formatter(mdates.DateFormatter(\"%m/%d %H:%M\"))\n",
    "ax1.text(dfPlot.index[0] - timedelta(days = 0.8),1.55,\n",
    "         \"Packet loss rate: {:.3} %\".format(packetLossRate), \n",
    "         fontsize = 12, \n",
    "         bbox=dict(facecolor=\"white\", alpha = 1, edgecolor = \"none\" ))\n",
    "\n",
    "minorLocator = MultipleLocator(0.5)\n",
    "# ax1.xaxis.set_minor_locator(minorLocator)\n",
    "ax1.grid()\n",
    "\n",
    "now = strftime(\"%Y%m%d%H%M%S\")\n",
    "fig.savefig('packetLoss_ana_' + str(idNum) + '_' + now +'.jpg', dpi= 400)\n",
    "\n",
    "\n"
   ]
  }
 ],
 "metadata": {
  "kernelspec": {
   "display_name": "Python 3",
   "language": "python",
   "name": "python3"
  },
  "language_info": {
   "codemirror_mode": {
    "name": "ipython",
    "version": 3
   },
   "file_extension": ".py",
   "mimetype": "text/x-python",
   "name": "python",
   "nbconvert_exporter": "python",
   "pygments_lexer": "ipython3",
   "version": "3.6.5"
  }
 },
 "nbformat": 4,
 "nbformat_minor": 2
}
